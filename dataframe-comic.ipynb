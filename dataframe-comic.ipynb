{
 "cells": [
  {
   "cell_type": "code",
   "execution_count": 18,
   "metadata": {},
   "outputs": [
    {
     "name": "stdout",
     "output_type": "stream",
     "text": [
      "      nombre edad      categoria\n",
      "0    alfonso   22         marvel\n",
      "1     carlos   26             DC\n",
      "2        bea   30        europeo\n",
      "3       luis   22  independiente\n",
      "4      jesus   27  independiente\n",
      "5      maria   30        europeo\n",
      "6    ricardo   26         marvel\n",
      "7     monica   24             DC\n",
      "8   cristina   30             DC\n",
      "9      celia   22         marvel\n",
      "10      juan   26        europeo\n",
      "11     sofia   24  independiente\n",
      "12    manuel   27         marvel\n",
      "13    emilio   22         marvel\n"
     ]
    }
   ],
   "source": [
    "import pandas as pd\n",
    "import numpy as np\n",
    "\n",
    "ComicList=pd.DataFrame(\n",
    "    {\n",
    "        'nombre': ['alfonso','carlos','bea','luis','jesus','maria','ricardo','monica','cristina','celia','juan','sofia','manuel','emilio'],\n",
    "        'edad': ['22','26','30','22','27','30','26','24','30','22','26','24','27','22'],\n",
    "        'categoria': ['marvel','DC','europeo','independiente','independiente','europeo','marvel','DC','DC','marvel','europeo','independiente','marvel','marvel']\n",
    "    }, columns=['nombre','edad','categoria']\n",
    ")\n",
    "\n",
    "print (ComicList)\n"
   ]
  },
  {
   "cell_type": "code",
   "execution_count": 19,
   "metadata": {},
   "outputs": [
    {
     "data": {
      "image/png": "[encoded data removed]",
      "text/plain": [
       "<Figure size 2160x720 with 1 Axes>"
      ]
     },
     "metadata": {},
     "output_type": "display_data"
    }
   ],
   "source": [
    "import matplotlib.pyplot as plt\n",
    "\n",
    "fig=plt.figure(figsize=(30,10))#tamaño del canvas que vamos a utilizar.\n",
    "\n",
    "plt.subplot2grid((2,3),(0,0))\n",
    "\n",
    "ComicList.categoria.value_counts().plot(kind='bar', alpha=0.5)\n",
    "\n",
    "plt.title('categoria mas leida')\n",
    "plt.show()\n"
   ]
  },
  {
   "cell_type": "code",
   "execution_count": 22,
   "metadata": {},
   "outputs": [
    {
     "data": {
      "image/png": "[encoded data removed]",
      "text/plain": [
       "<Figure size 2160x720 with 1 Axes>"
      ]
     },
     "metadata": {},
     "output_type": "display_data"
    }
   ],
   "source": [
    "fig=plt.figure(figsize=(30,10))#tamaño del canvas que vamos a utilizar.\n",
    "\n",
    "plt.subplot2grid((2,3),(0,0))\n",
    "\n",
    "ComicList.edad.value_counts().plot(kind='bar', alpha=0.5)\n",
    "\n",
    "plt.title('edad que más lee comic')\n",
    "plt.show()"
   ]
  },
  {
   "cell_type": "code",
   "execution_count": null,
   "metadata": {},
   "outputs": [],
   "source": [
    "\n"
   ]
  },
  {
   "cell_type": "code",
   "execution_count": null,
   "metadata": {},
   "outputs": [],
   "source": []
  }
 ],
 "metadata": {
  "kernelspec": {
   "display_name": "Python 3",
   "language": "python",
   "name": "python3"
  },
  "language_info": {
   "codemirror_mode": {
    "name": "ipython",
    "version": 3
   },
   "file_extension": ".py",
   "mimetype": "text/x-python",
   "name": "python",
   "nbconvert_exporter": "python",
   "pygments_lexer": "ipython3",
   "version": "3.6.5"
  }
 },
 "nbformat": 4,
 "nbformat_minor": 2
}
