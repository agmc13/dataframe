{
 "cells": [
  {
   "cell_type": "code",
   "execution_count": 1,
   "metadata": {},
   "outputs": [],
   "source": [
    "import pandas as pd\n",
    "from faker import Faker\n",
    "import matplotlib.pyplot as plt\n",
    "import numpy as np\n",
    "import webbrowser"
   ]
  },
  {
   "cell_type": "code",
   "execution_count": 36,
   "metadata": {
    "scrolled": true
   },
   "outputs": [
    {
     "data": {
      "text/html": [
       "<h1 id=\"titulo\">Dataframe de Alfonso Gonzalo Moreno Córdoba</h1>"
      ],
      "text/plain": [
       "<IPython.core.display.HTML object>"
      ]
     },
     "metadata": {},
     "output_type": "display_data"
    }
   ],
   "source": [
    "%%HTML\n",
    "<h1 id=\"titulo\">Dataframe de Alfonso Gonzalo Moreno Córdoba</h1>"
   ]
  },
  {
   "cell_type": "code",
   "execution_count": 21,
   "metadata": {},
   "outputs": [],
   "source": [
    "class DataFrame:\n",
    "    \n",
    "    def __init__(self):\n",
    "        global ComicList\n",
    "        if True:\n",
    "            try:\n",
    "                ComicList=pd.DataFrame(\n",
    "                    {\n",
    "                        'nombre': ['gonzalo','marcos','leticia','lola','antonio','enrique','alfonso','carlos','bea','luis','jesus','maria','ricardo','monica','cristina','celia','juan','sofia','manuel','emilio'],\n",
    "                        'edad': ['26','24','27','26','24','27','22','26','30','22','27','30','26','24','30','22','26','24','27','22'],\n",
    "                        'categoria': ['europeo','DC','independiente','europeo','DC','independiente','marvel','DC','europeo','independiente','independiente','europeo','marvel','DC','DC','marvel','europeo','independiente','marvel','marvel']\n",
    "                    }, columns=['nombre','edad','categoria']\n",
    "                )\n",
    "\n",
    "                print (ComicList)\n",
    "            except ValueError:\n",
    "                print('no se ha podido crear el dataframe correctamente')\n",
    "                \n",
    "    def grafica_Edad(self):\n",
    "        if True:\n",
    "            try:\n",
    "                ComicList.groupby(['edad','categoria'])['nombre'].size().unstack().plot(kind='bar',stacked=True)\n",
    "                plt.title('comparativa')\n",
    "                plt.show()\n",
    "            except ValueError:\n",
    "                print('no se ha podido crear la grafica correctamente')"
   ]
  },
  {
   "cell_type": "code",
   "execution_count": 32,
   "metadata": {
    "scrolled": true
   },
   "outputs": [
    {
     "data": {
      "text/html": [
       "<h2 id='flame'>dataframe con los datos de los entrevistados</h2>"
      ],
      "text/plain": [
       "<IPython.core.display.HTML object>"
      ]
     },
     "metadata": {},
     "output_type": "display_data"
    }
   ],
   "source": [
    "%%HTML\n",
    "<h2 id='flame'>dataframe con los datos de los entrevistados</h2>"
   ]
  },
  {
   "cell_type": "code",
   "execution_count": 23,
   "metadata": {
    "scrolled": true
   },
   "outputs": [
    {
     "name": "stdout",
     "output_type": "stream",
     "text": [
      "      nombre edad      categoria\n",
      "0    gonzalo   26        europeo\n",
      "1     marcos   24             DC\n",
      "2    leticia   27  independiente\n",
      "3       lola   26        europeo\n",
      "4    antonio   24             DC\n",
      "5    enrique   27  independiente\n",
      "6    alfonso   22         marvel\n",
      "7     carlos   26             DC\n",
      "8        bea   30        europeo\n",
      "9       luis   22  independiente\n",
      "10     jesus   27  independiente\n",
      "11     maria   30        europeo\n",
      "12   ricardo   26         marvel\n",
      "13    monica   24             DC\n",
      "14  cristina   30             DC\n",
      "15     celia   22         marvel\n",
      "16      juan   26        europeo\n",
      "17     sofia   24  independiente\n",
      "18    manuel   27         marvel\n",
      "19    emilio   22         marvel\n"
     ]
    }
   ],
   "source": [
    "datos = DataFrame()"
   ]
  },
  {
   "cell_type": "code",
   "execution_count": 26,
   "metadata": {},
   "outputs": [
    {
     "data": {
      "text/html": [
       "<h3>Grafica con la comparativa del tipo de comic que le gusta a los entrevistados respecto a su edad.</h3>"
      ],
      "text/plain": [
       "<IPython.core.display.HTML object>"
      ]
     },
     "metadata": {},
     "output_type": "display_data"
    }
   ],
   "source": [
    "%%HTML\n",
    "<h3 id='grafica'>Grafica con la comparativa del tipo de comic que le gusta a los entrevistados respecto a su edad.</h3>"
   ]
  },
  {
   "cell_type": "code",
   "execution_count": 24,
   "metadata": {},
   "outputs": [
    {
     "data": {
      "image/png": "[encoded data removed]",
      "text/plain": [
       "<Figure size 432x288 with 1 Axes>"
      ]
     },
     "metadata": {},
     "output_type": "display_data"
    }
   ],
   "source": [
    "datos.grafica_Edad()"
   ]
  }
 ],
 "metadata": {
  "kernelspec": {
   "display_name": "Python 3",
   "language": "python",
   "name": "python3"
  },
  "language_info": {
   "codemirror_mode": {
    "name": "ipython",
    "version": 3
   },
   "file_extension": ".py",
   "mimetype": "text/x-python",
   "name": "python",
   "nbconvert_exporter": "python",
   "pygments_lexer": "ipython3",
   "version": "3.6.5"
  }
 },
 "nbformat": 4,
 "nbformat_minor": 2
}
